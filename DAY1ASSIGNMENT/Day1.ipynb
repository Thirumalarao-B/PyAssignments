{
  "nbformat": 4,
  "nbformat_minor": 0,
  "metadata": {
    "colab": {
      "name": "Day1.ipynb",
      "provenance": []
    },
    "kernelspec": {
      "name": "python3",
      "display_name": "Python 3"
    }
  },
  "cells": [
    {
      "cell_type": "code",
      "metadata": {
        "colab": {
          "base_uri": "https://localhost:8080/"
        },
        "id": "sav44JQDDEsr",
        "outputId": "94691f37-b3ba-452a-fa14-8fbf8257add2"
      },
      "source": [
        "\"\"\" Question 1 \r\n",
        "Write a Python program to print all Prime numbers in an Interval.\"\"\"\r\n",
        "\r\n",
        "lower = int(input(\"Enter lower value:\"))\r\n",
        "upper = int(input(\"Enter upper value:\"))\r\n",
        "for a in range(lower,upper+1):\r\n",
        "  if a > 1:\r\n",
        "    for i in range(2,a):\r\n",
        "      if (a % i == 0 ):\r\n",
        "        break\r\n",
        "    else:\r\n",
        "        print(a)\r\n",
        "\r\n",
        "  "
      ],
      "execution_count": null,
      "outputs": [
        {
          "output_type": "stream",
          "text": [
            "Enter lower value:1\n",
            "Enter upper value:100\n",
            "2\n",
            "3\n",
            "5\n",
            "7\n",
            "11\n",
            "13\n",
            "17\n",
            "19\n",
            "23\n",
            "29\n",
            "31\n",
            "37\n",
            "41\n",
            "43\n",
            "47\n",
            "53\n",
            "59\n",
            "61\n",
            "67\n",
            "71\n",
            "73\n",
            "79\n",
            "83\n",
            "89\n",
            "97\n"
          ],
          "name": "stdout"
        }
      ]
    },
    {
      "cell_type": "code",
      "metadata": {
        "colab": {
          "base_uri": "https://localhost:8080/"
        },
        "id": "GvIEyEo2D12V",
        "outputId": "a7691019-b1b2-43a8-802d-acc976fbe5c4"
      },
      "source": [
        "\"\"\" \r\n",
        "Question 2\r\n",
        "Write a Python Program for factorial of a number.\"\"\"\r\n",
        "\r\n",
        "num = int(input(\"Enter a number\"))\r\n",
        "if (num >=0):\r\n",
        "  factorial = 1\r\n",
        "  for i in range(1,num+1):\r\n",
        "    factorial = factorial * i\r\n",
        "  print(\"The factorial of a given number\",num,\" is \",factorial)\r\n",
        "else :\r\n",
        "  print(\"sorry factorial number is not exits for negative numbers\")"
      ],
      "execution_count": null,
      "outputs": [
        {
          "output_type": "stream",
          "text": [
            "Enter a number5\n",
            "The factorial of a given number 5  is  120\n"
          ],
          "name": "stdout"
        }
      ]
    },
    {
      "cell_type": "code",
      "metadata": {
        "colab": {
          "base_uri": "https://localhost:8080/"
        },
        "id": "kHft-06zEGAV",
        "outputId": "e832741c-4cdc-41ff-8c0e-61006b997546"
      },
      "source": [
        "\"\"\"Question 3\r\n",
        "Find the sum of n numbers by using the while loop\"\"\"\r\n",
        "\r\n",
        "n = int(input(\"Enter a number\"))\r\n",
        "if n < 0:\r\n",
        "   print(\"Enter a positive number\")\r\n",
        "else:\r\n",
        "   sum = 0\r\n",
        "   while (n > 0):\r\n",
        "       sum += n\r\n",
        "       n -= 1\r\n",
        "print(\"The sum of n natural numbers is :\",sum)\r\n"
      ],
      "execution_count": null,
      "outputs": [
        {
          "output_type": "stream",
          "text": [
            "Enter a number5\n",
            "The sum of n natural numbers is : 15\n"
          ],
          "name": "stdout"
        }
      ]
    }
  ]
}