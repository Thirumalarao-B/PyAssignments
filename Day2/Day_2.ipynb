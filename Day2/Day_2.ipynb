{
  "nbformat": 4,
  "nbformat_minor": 0,
  "metadata": {
    "colab": {
      "name": "Day-2.ipynb",
      "provenance": []
    },
    "kernelspec": {
      "name": "python3",
      "display_name": "Python 3"
    }
  },
  "cells": [
    {
      "cell_type": "code",
      "metadata": {
        "id": "VUh25TsLO7QS",
        "colab": {
          "base_uri": "https://localhost:8080/"
        },
        "outputId": "21343d10-e9a4-46f8-845c-d604a38c5eee"
      },
      "source": [
        "#Question 1\r\n",
        "# Write a Python program to remove empty List from List?\r\n",
        "list1 = ['Red', 'Blue','Yellow',[] , 'Green', 'Blue', [], []]\r\n",
        "print(\"Original list:\")\r\n",
        "print(list1)\r\n",
        "print(\"\\nAfter deleting the empty lists from the said lists of lists\")\r\n",
        "list2 = [i for i in list1 if i]\r\n",
        "print(list2)"
      ],
      "execution_count": 2,
      "outputs": [
        {
          "output_type": "stream",
          "text": [
            "Original list:\n",
            "['Red', 'Blue', 'Yellow', [], 'Green', 'Blue', [], []]\n",
            "\n",
            "After deleting the empty lists from the said lists of lists\n",
            "['Red', 'Blue', 'Yellow', 'Green', 'Blue']\n"
          ],
          "name": "stdout"
        }
      ]
    },
    {
      "cell_type": "code",
      "metadata": {
        "colab": {
          "base_uri": "https://localhost:8080/"
        },
        "id": "ptIkowpMZXJn",
        "outputId": "478fcf36-bce6-49aa-8daf-106efe43e886"
      },
      "source": [
        "# Question 2\r\n",
        "# Write a Python program to remove all duplicates words from a given sentence?\r\n",
        "\r\n",
        "from collections import OrderedDict\r\n",
        "def remove_duplicate(str1):\r\n",
        "  return \"\".join(OrderedDict.fromkeys(str1))    \r\n",
        "print(remove_duplicate(\"lets upgrade python essentials practice\"))\r\n",
        "print(remove_duplicate(\"this is thirumala rao\"))"
      ],
      "execution_count": 3,
      "outputs": [
        {
          "output_type": "stream",
          "text": [
            "lets upgradyhonic\n",
            "this rumalo\n"
          ],
          "name": "stdout"
        }
      ]
    },
    {
      "cell_type": "code",
      "metadata": {
        "colab": {
          "base_uri": "https://localhost:8080/"
        },
        "id": "6eBKfseEaVkN",
        "outputId": "027d5b81-287b-4bb8-9332-00244a8f9c9e"
      },
      "source": [
        "#Question 3\r\n",
        "#Write a Python program to find all occurrences of a character in the given string?\r\n",
        "\r\n",
        "def change_char(str1):\r\n",
        "  char = str1[0]\r\n",
        "  str1 = str1.replace(char, 'P')\r\n",
        "  str1 = char + str1[1:]\r\n",
        "\r\n",
        "  return str1\r\n",
        "\r\n",
        "print(change_char('python practise'))"
      ],
      "execution_count": 9,
      "outputs": [
        {
          "output_type": "stream",
          "text": [
            "python Practise\n"
          ],
          "name": "stdout"
        }
      ]
    }
  ]
}